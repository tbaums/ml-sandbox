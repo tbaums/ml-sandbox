{
 "cells": [
  {
   "cell_type": "markdown",
   "metadata": {
    "tags": []
   },
   "source": [
    "# COVID-19 mRNA Vaccine Degradation Prediction\n",
    "\n",
    "\n",
    "**Context: The most promising COVID-19 vaccine candidates use messenger RNA molecules (mRNA)** to help the patient develop immunity. Unfortunately, mRNA molecules are extremely fragile, and in certain circumstances spontaneously degrade. Current best scientific understanding lacks a means to analyze mRNA molecule candidates for areas of likely degradation.\n",
    "\n",
    "**Goal: Predict degradation rates for each part of an RNA molecule.**\n"
   ]
  },
  {
   "cell_type": "code",
   "execution_count": 11,
   "metadata": {
    "tags": [
     "imports"
    ]
   },
   "outputs": [],
   "source": [
    "import json\n",
    "import numpy as np\n",
    "import pandas as pd\n",
    "import tensorflow as tf\n",
    "from time import sleep\n",
    "\n",
    "from tensorflow.keras.preprocessing.text import Tokenizer"
   ]
  },
  {
   "cell_type": "markdown",
   "metadata": {
    "tags": []
   },
   "source": [
    "## Automated hyper-parameter optimization"
   ]
  },
  {
   "cell_type": "code",
   "execution_count": 2,
   "metadata": {
    "tags": [
     "pipeline-parameters"
    ]
   },
   "outputs": [],
   "source": [
    "# Hyper-parameters\n",
    "LR = 1e-3\n",
    "EPOCHS = 1\n",
    "BATCH_SIZE = 64\n",
    "EMBED_DIM = 100\n",
    "HIDDEN_DIM = 128\n",
    "DROPOUT = .5\n",
    "SP_DROPOUT = .3\n",
    "TRAIN_SEQUENCE_LENGTH = 107"
   ]
  },
  {
   "cell_type": "markdown",
   "metadata": {
    "tags": []
   },
   "source": [
    "## Load data"
   ]
  },
  {
   "cell_type": "code",
   "execution_count": null,
   "metadata": {
    "tags": [
     "block:load_data"
    ]
   },
   "outputs": [],
   "source": [
    "train_df = pd.read_json(\"data/train.json\", lines=True)\n",
    "test_df = pd.read_json(\"data/test.json\", lines=True)"
   ]
  },
  {
   "cell_type": "code",
   "execution_count": null,
   "metadata": {
    "tags": []
   },
   "outputs": [],
   "source": [
    "sample_submission_df = pd.read_csv(\"data/sample_submission.csv\")"
   ]
  },
  {
   "cell_type": "markdown",
   "metadata": {
    "tags": []
   },
   "source": [
    "## Preprocess data"
   ]
  },
  {
   "cell_type": "code",
   "execution_count": 4,
   "metadata": {
    "tags": [
     "block:preprocess_data",
     "prev:load_data"
    ]
   },
   "outputs": [],
   "source": [
    "symbols = \"().ACGUBEHIMSX\"\n",
    "feat_cols = [\"sequence\", \"structure\", \"predicted_loop_type\"]\n",
    "target_cols = [\"reactivity\", \"deg_Mg_pH10\", \"deg_Mg_50C\", \"deg_pH10\", \"deg_50C\"]\n",
    "error_cols = [\"reactivity_error\", \"deg_error_Mg_pH10\", \"deg_error_Mg_50C\", \"deg_error_pH10\", \"deg_error_50C\"]"
   ]
  },
  {
   "cell_type": "code",
   "execution_count": 5,
   "metadata": {
    "tags": []
   },
   "outputs": [],
   "source": [
    "tokenizer = Tokenizer(char_level=True, filters=\"\")\n",
    "tokenizer.fit_on_texts(symbols)"
   ]
  },
  {
   "cell_type": "code",
   "execution_count": 6,
   "metadata": {
    "tags": []
   },
   "outputs": [],
   "source": [
    "# get the number of elements in the vocabulary\n",
    "vocab_size = len(tokenizer.word_index) + 1"
   ]
  },
  {
   "cell_type": "code",
   "execution_count": 7,
   "metadata": {
    "tags": []
   },
   "outputs": [],
   "source": [
    "def process_features(example):\n",
    "    sequence_sentences = example[0]\n",
    "    structure_sentences = example[1]\n",
    "    loop_sentences = example[2]\n",
    "    \n",
    "    # transform character sequences into number sequences\n",
    "    sequence_tokens = np.array(\n",
    "        tokenizer.texts_to_sequences(sequence_sentences)\n",
    "    )\n",
    "    structure_tokens = np.array(\n",
    "        tokenizer.texts_to_sequences(structure_sentences)\n",
    "    )\n",
    "    loop_tokens = np.array(\n",
    "        tokenizer.texts_to_sequences(loop_sentences)\n",
    "    )\n",
    "    \n",
    "    # concatenate the tokenized sequences\n",
    "    sequences = np.stack(\n",
    "        (sequence_tokens, structure_tokens, loop_tokens),\n",
    "        axis=1\n",
    "    )\n",
    "    sequences = np.transpose(sequences, (2, 0, 1))\n",
    "    \n",
    "    prepared = sequences.tolist()\n",
    "    \n",
    "    return prepared[0]"
   ]
  },
  {
   "cell_type": "code",
   "execution_count": null,
   "metadata": {
    "tags": []
   },
   "outputs": [],
   "source": [
    "def process_labels(df):\n",
    "    df = df.copy()\n",
    "    \n",
    "    labels = np.array(df[target_cols].values.tolist())\n",
    "    labels = np.transpose(labels, (0, 2, 1))\n",
    "    \n",
    "    return labels"
   ]
  },
  {
   "cell_type": "code",
   "execution_count": null,
   "metadata": {},
   "outputs": [],
   "source": [
    "public_test_df = test_df.query(\"seq_length == 107\")\n",
    "private_test_df = test_df.query(\"seq_length == 130\")"
   ]
  },
  {
   "cell_type": "code",
   "execution_count": null,
   "metadata": {
    "tags": []
   },
   "outputs": [],
   "source": [
    "x_train = [process_features(row.tolist()) for _, row in train_df[feat_cols].iterrows()]\n",
    "y_train = process_labels(train_df)\n",
    "\n",
    "unprocessed_x_public_test = [row.tolist() for _, row in public_test_df[feat_cols].iterrows()]\n",
    "unprocessed_x_private_test = [row.tolist() for _, row in private_test_df[feat_cols].iterrows()]"
   ]
  },
  {
   "cell_type": "markdown",
   "metadata": {
    "tags": []
   },
   "source": [
    "# Define and train the model"
   ]
  },
  {
   "cell_type": "code",
   "execution_count": null,
   "metadata": {
    "tags": [
     "block:model_training",
     "prev:preprocess_data"
    ]
   },
   "outputs": [],
   "source": [
    "def gru_layer(hidden_dim, dropout):\n",
    "    return tf.keras.layers.Bidirectional(\n",
    "         tf.keras.layers.GRU(hidden_dim, dropout=dropout, return_sequences=True, kernel_initializer = 'orthogonal')\n",
    "    )"
   ]
  },
  {
   "cell_type": "code",
   "execution_count": null,
   "metadata": {
    "tags": []
   },
   "outputs": [],
   "source": [
    "def lstm_layer(hidden_dim, dropout):\n",
    "    return tf.keras.layers.Bidirectional(\n",
    "        tf.keras.layers.LSTM(hidden_dim, dropout=dropout, return_sequences=True, kernel_initializer = 'orthogonal')\n",
    "    )"
   ]
  },
  {
   "cell_type": "code",
   "execution_count": null,
   "metadata": {
    "tags": []
   },
   "outputs": [],
   "source": [
    "def build_model(vocab_size, seq_length=TRAIN_SEQUENCE_LENGTH, pred_len=68,\n",
    "                embed_dim=EMBED_DIM,\n",
    "                hidden_dim=HIDDEN_DIM, dropout=DROPOUT, sp_dropout=SP_DROPOUT):\n",
    "    inputs = tf.keras.layers.Input(shape=(seq_length, 3))\n",
    "\n",
    "    embed = tf.keras.layers.Embedding(input_dim=vocab_size, output_dim=embed_dim)(inputs)\n",
    "    \n",
    "    reshaped = tf.reshape(\n",
    "        embed, shape=(-1, embed.shape[1],  embed.shape[2] * embed.shape[3])\n",
    "    )\n",
    "    \n",
    "    hidden = tf.keras.layers.SpatialDropout1D(sp_dropout)(reshaped)\n",
    "    \n",
    "    hidden = gru_layer(hidden_dim, dropout)(hidden)\n",
    "    hidden = lstm_layer(hidden_dim, dropout)(hidden)\n",
    "    \n",
    "    truncated = hidden[:, :pred_len]\n",
    "    \n",
    "    out = tf.keras.layers.Dense(5, activation=\"linear\")(truncated)\n",
    "    \n",
    "    model = tf.keras.Model(inputs=inputs, outputs=out)\n",
    "    \n",
    "    return model"
   ]
  },
  {
   "cell_type": "code",
   "execution_count": null,
   "metadata": {
    "tags": []
   },
   "outputs": [],
   "source": [
    "model = build_model(vocab_size)"
   ]
  },
  {
   "cell_type": "code",
   "execution_count": null,
   "metadata": {
    "tags": []
   },
   "outputs": [],
   "source": [
    "class MeanColumnwiseRMSE(tf.keras.losses.Loss):\n",
    "    def __init__(self, name='MeanColumnwiseRMSE'):\n",
    "        super().__init__(name=name)\n",
    "\n",
    "    def call(self, y_true, y_pred):\n",
    "        colwise_mse = tf.reduce_mean(tf.square(y_true - y_pred), axis=1)\n",
    "        return tf.reduce_mean(tf.sqrt(colwise_mse), axis=1)"
   ]
  },
  {
   "cell_type": "code",
   "execution_count": null,
   "metadata": {
    "tags": []
   },
   "outputs": [],
   "source": [
    "model.compile(tf.optimizers.Adam(learning_rate=LR), loss=MeanColumnwiseRMSE())"
   ]
  },
  {
   "cell_type": "code",
   "execution_count": null,
   "metadata": {
    "tags": []
   },
   "outputs": [],
   "source": [
    "history = model.fit(np.array(x_train), np.array(y_train), \n",
    "                    validation_split=.1, batch_size=BATCH_SIZE, epochs=EPOCHS)"
   ]
  },
  {
   "cell_type": "code",
   "execution_count": null,
   "metadata": {
    "tags": []
   },
   "outputs": [],
   "source": [
    "validation_loss = history.history.get(\"val_loss\")[0]"
   ]
  },
  {
   "cell_type": "markdown",
   "metadata": {
    "tags": []
   },
   "source": [
    "## Evaluate the model"
   ]
  },
  {
   "cell_type": "code",
   "execution_count": null,
   "metadata": {
    "tags": [
     "block:model_evaluation",
     "prev:model_training"
    ]
   },
   "outputs": [],
   "source": [
    "model_public = build_model(vocab_size, seq_length=107, pred_len=107)\n",
    "model_private = build_model(vocab_size, seq_length=130, pred_len=130)\n",
    "\n",
    "model_public.set_weights(model.get_weights())\n",
    "model_private.set_weights(model.get_weights())"
   ]
  },
  {
   "cell_type": "code",
   "execution_count": null,
   "metadata": {
    "tags": [
     "block:"
    ]
   },
   "outputs": [],
   "source": [
    "public_preds = model_public.predict(np.array([process_features(x) for x in unprocessed_x_public_test]))\n",
    "private_preds = model_private.predict(np.array([process_features(x) for x in unprocessed_x_private_test]))"
   ]
  },
  {
   "cell_type": "code",
   "execution_count": null,
   "metadata": {
    "tags": [
     "pipeline-metrics"
    ]
   },
   "outputs": [],
   "source": [
    "print(validation_loss)"
   ]
  },
  {
   "cell_type": "code",
   "execution_count": 3,
   "metadata": {},
   "outputs": [],
   "source": [
    "from kale.common.serveutils import serve\n"
   ]
  },
  {
   "cell_type": "code",
   "execution_count": 8,
   "metadata": {},
   "outputs": [
    {
     "name": "stderr",
     "output_type": "stream",
     "text": [
      "2021-02-22 17:54:16 Kale serveutils:217       [INFO]     Starting serve procedure for model '<tensorflow.python.keras.engine.functional.Functional object at 0x7f8ec48fe668>'\n",
      "2021-02-22 17:54:16 Kale jputils:324          [INFO]     Retrieving absolute path of the active notebook\n",
      "2021-02-22 17:54:16 Kale marshalling          [INFO]     Saving function object using Function backend: transformer_function\n",
      "2021-02-22 17:54:16 Kale marshalling          [WARNING]  No backends found for type keras_preprocessing.text.Tokenizer (object). Falling back to default backend.\n",
      "2021-02-22 17:54:16 Kale marshalling          [INFO]     Saving generic object using Default backend: tokenizer\n",
      "2021-02-22 17:54:16 Kale podutils:82          [INFO]     Getting the current container name...\n",
      "2021-02-22 17:54:16 Kale podutils:88          [INFO]     Using NB_PREFIX env var '/notebook/kubeflow-user/vaccine-serve'. Container name: 'vaccine-serve'\n",
      "2021-02-22 17:54:16 Kale serveutils:242       [INFO]     Model is contained in volume 'workspace-vaccine-serve-w64b9p32q'\n",
      "2021-02-22 17:54:16 Kale marshalling          [INFO]     Saving tensorflow object using Tensorflow backend: model\n"
     ]
    },
    {
     "name": "stdout",
     "output_type": "stream",
     "text": [
      "[WARNING]:tensorflow:From /home/jovyan/.local/lib/python3.6/site-packages/tensorflow/python/training/tracking/tracking.py:111: Model.state_updates (from tensorflow.python.keras.engine.training) is deprecated and will be removed in a future version.\n",
      "Instructions for updating:\n",
      "This property should not be used in TensorFlow 2.0, as updates are applied automatically.\n",
      "[WARNING]:tensorflow:From /home/jovyan/.local/lib/python3.6/site-packages/tensorflow/python/training/tracking/tracking.py:111: Layer.updates (from tensorflow.python.keras.engine.base_layer) is deprecated and will be removed in a future version.\n",
      "Instructions for updating:\n",
      "This property should not be used in TensorFlow 2.0, as updates are applied automatically.\n",
      "[INFO]:tensorflow:Assets written to: /home/jovyan/.kale.kfserving.model.dir/model.tfkeras/1/assets\n"
     ]
    },
    {
     "name": "stderr",
     "output_type": "stream",
     "text": [
      "2021-02-22 17:54:41 Kale serveutils:247       [INFO]     Model saved successfully at '/home/jovyan/.kale.kfserving.model.dir/model.tfkeras'\n",
      "2021-02-22 17:54:42 Kale rokutils:60          [INFO]     Taking a snapshot of PVC workspace-vaccine-serve-w64b9p32q in namespace kubeflow-user ...\n",
      "2021-02-22 17:54:42 Kale rokutils:259         [INFO]     Creating Rok bucket 'serving'...\n",
      "2021-02-22 17:54:42 Kale rokutils:276         [INFO]     Successfully created Rok bucket 'serving'\n",
      "2021-02-22 17:54:49 Kale rokutils:79          [INFO]     Successfully took Rok snapshot\n",
      "2021-02-22 17:54:49 Kale rokutils:219         [INFO]     Creating new PVC 'vaccine-serve-0-nffe8-pvc-78yjw' from Rok version 0cd1eb91-bd1a-42ae-80ac-60ff0a260092 ...\n",
      "2021-02-22 17:54:49 Kale rokutils:231         [INFO]     Using Rok url: http://rok.rok.svc.cluster.local/swift/v1/kubeflow-user/serving/workspace-vaccine-serve-w64b9p32q?version=0cd1eb91-bd1a-42ae-80ac-60ff0a260092\n",
      "2021-02-22 17:54:49 Kale rokutils:253         [INFO]     Successfully submitted PVC.\n",
      "2021-02-22 17:54:49 Kale utils:63             [INFO]     Removing path `/home/jovyan/.kale.kfserving.model.dir/model.tfkeras'\n",
      "2021-02-22 17:54:49 Kale utils:63             [INFO]     Removing path `/home/jovyan/.kale.kfserving-transformer.dir'\n",
      "2021-02-22 17:54:49 Kale podutils:82          [INFO]     Getting the current container name...\n",
      "2021-02-22 17:54:49 Kale podutils:88          [INFO]     Using NB_PREFIX env var '/notebook/kubeflow-user/vaccine-serve'. Container name: 'vaccine-serve'\n",
      "2021-02-22 17:54:49 Kale serveutils:389       [INFO]     Saving InferenceService definition at 'vaccine-serve-0-nffe8.kfserving.yaml'\n",
      "2021-02-22 17:54:49 Kale serveutils:416       [INFO]     Creating InferenceService 'vaccine-serve-0-nffe8'...\n",
      "2021-02-22 17:54:50 Kale serveutils:424       [INFO]     Successfully created InferenceService: vaccine-serve-0-nffe8\n",
      "2021-02-22 17:54:50 Kale serveutils:430       [INFO]     Adding owner references to PVC 'vaccine-serve-0-nffe8-pvc-78yjw' for InferenceService 'vaccine-serve-0-nffe8'\n",
      "2021-02-22 17:54:50 Kale serveutils:463       [INFO]     Waiting for InferenceService 'vaccine-serve-0-nffe8' to become ready...\n",
      "2021-02-22 17:54:53 Kale serveutils:463       [INFO]     Waiting for InferenceService 'vaccine-serve-0-nffe8' to become ready...\n",
      "2021-02-22 17:54:56 Kale serveutils:463       [INFO]     Waiting for InferenceService 'vaccine-serve-0-nffe8' to become ready...\n",
      "2021-02-22 17:54:59 Kale serveutils:463       [INFO]     Waiting for InferenceService 'vaccine-serve-0-nffe8' to become ready...\n",
      "2021-02-22 17:55:02 Kale serveutils:463       [INFO]     Waiting for InferenceService 'vaccine-serve-0-nffe8' to become ready...\n",
      "2021-02-22 17:55:05 Kale serveutils:463       [INFO]     Waiting for InferenceService 'vaccine-serve-0-nffe8' to become ready...\n",
      "2021-02-22 17:55:08 Kale serveutils:463       [INFO]     Waiting for InferenceService 'vaccine-serve-0-nffe8' to become ready...\n",
      "2021-02-22 17:55:11 Kale serveutils:463       [INFO]     Waiting for InferenceService 'vaccine-serve-0-nffe8' to become ready...\n",
      "2021-02-22 17:55:14 Kale serveutils:463       [INFO]     Waiting for InferenceService 'vaccine-serve-0-nffe8' to become ready...\n",
      "2021-02-22 17:55:17 Kale serveutils:463       [INFO]     Waiting for InferenceService 'vaccine-serve-0-nffe8' to become ready...\n",
      "2021-02-22 17:55:20 Kale serveutils:463       [INFO]     Waiting for InferenceService 'vaccine-serve-0-nffe8' to become ready...\n",
      "2021-02-22 17:55:23 Kale serveutils:463       [INFO]     Waiting for InferenceService 'vaccine-serve-0-nffe8' to become ready...\n",
      "2021-02-22 17:55:26 Kale serveutils:463       [INFO]     Waiting for InferenceService 'vaccine-serve-0-nffe8' to become ready...\n",
      "2021-02-22 17:55:29 Kale serveutils:463       [INFO]     Waiting for InferenceService 'vaccine-serve-0-nffe8' to become ready...\n",
      "2021-02-22 17:55:32 Kale serveutils:474       [INFO]     InferenceService 'vaccine-serve-0-nffe8' is ready.\n"
     ]
    }
   ],
   "source": [
    "kfserver = serve(model, preprocessing_fn=process_features, preprocessing_assets={'tokenizer': tokenizer})\n"
   ]
  },
  {
   "cell_type": "code",
   "execution_count": 9,
   "metadata": {},
   "outputs": [],
   "source": [
    "data = json.dumps({\"instances\": unprocessed_x_public_test})\n"
   ]
  },
  {
   "cell_type": "code",
   "execution_count": null,
   "metadata": {},
   "outputs": [
    {
     "name": "stderr",
     "output_type": "stream",
     "text": [
      "2021-02-22 17:58:31 Kale serveutils:152       [INFO]     Sending a request to the InferenceService...\n",
      "2021-02-22 17:58:31 Kale serveutils:153       [INFO]     Getting InferenceService's host...\n",
      "2021-02-22 17:58:31 Kale serveutils:156       [INFO]     Sending request to InferenceService...\n",
      "2021-02-22 17:58:36 Kale serveutils:162       [INFO]     Response: {\"predictions\": [[[0.923311, 1.1981051, 1.11143434, 2.45272899, 1.15551567] ..... 27186], [0.327044964, 0.49445653, 0.401043564, 0.441165388, 0.385348141]]]}\n",
      "2021-02-22 17:58:41 Kale serveutils:152       [INFO]     Sending a request to the InferenceService...\n",
      "2021-02-22 17:58:41 Kale serveutils:153       [INFO]     Getting InferenceService's host...\n",
      "2021-02-22 17:58:41 Kale serveutils:156       [INFO]     Sending request to InferenceService...\n",
      "2021-02-22 17:58:46 Kale serveutils:162       [INFO]     Response: {\"predictions\": [[[0.923311, 1.1981051, 1.11143434, 2.45272899, 1.15551567] ..... 27186], [0.327044964, 0.49445653, 0.401043564, 0.441165388, 0.385348141]]]}\n",
      "2021-02-22 17:58:52 Kale serveutils:152       [INFO]     Sending a request to the InferenceService...\n",
      "2021-02-22 17:58:52 Kale serveutils:153       [INFO]     Getting InferenceService's host...\n",
      "2021-02-22 17:58:52 Kale serveutils:156       [INFO]     Sending request to InferenceService...\n"
     ]
    }
   ],
   "source": [
    "while True:\n",
    "    kfserver.predict(data)\n",
    "    sleep(5)"
   ]
  },
  {
   "cell_type": "code",
   "execution_count": null,
   "metadata": {},
   "outputs": [],
   "source": []
  }
 ],
 "metadata": {
  "kernelspec": {
   "display_name": "Python 3",
   "language": "python",
   "name": "python3"
  },
  "kubeflow_notebook": {
   "autosnapshot": true,
   "docker_image": "gcr.io/arrikto/jupyter-kale:4a5d7e63-9f74f267",
   "experiment": {
    "id": "new",
    "name": "vaccine-rna-degradation"
   },
   "experiment_name": "vaccine-rna-degradation",
   "katib_metadata": {
    "algorithm": {
     "algorithmName": "grid"
    },
    "maxFailedTrialCount": 3,
    "maxTrialCount": 6,
    "objective": {
     "additionalMetricNames": [],
     "goal": 0,
     "objectiveMetricName": "validation-loss",
     "type": "minimize"
    },
    "parallelTrialCount": 3,
    "parameters": [
     {
      "feasibleSpace": {
       "max": "0.01",
       "min": "0.0001",
       "step": "0.0003"
      },
      "name": "LR",
      "parameterType": "double"
     },
     {
      "feasibleSpace": {
       "max": "256",
       "min": "32",
       "step": "32"
      },
      "name": "BATCH_SIZE",
      "parameterType": "int"
     },
     {
      "feasibleSpace": {
       "max": "100",
       "min": "20",
       "step": "20"
      },
      "name": "EMBED_DIM",
      "parameterType": "int"
     },
     {
      "feasibleSpace": {
       "list": [
        "0.2",
        "0.3",
        "0.4",
        "0.5"
       ]
      },
      "name": "DROPOUT",
      "parameterType": "categorical"
     },
     {
      "feasibleSpace": {
       "list": [
        "0.2",
        "0.3",
        "0.4",
        "0.5"
       ]
      },
      "name": "SP_DROPOUT",
      "parameterType": "categorical"
     }
    ]
   },
   "katib_run": true,
   "pipeline_description": "predict mRNA base degredation",
   "pipeline_name": "vaccine-rna-degradation",
   "snapshot_volumes": true,
   "steps_defaults": [
    "label:access-ml-pipeline:true",
    "label:access-rok:true"
   ],
   "volumes": [
    {
     "annotations": [],
     "mount_point": "/home/jovyan",
     "name": "workspace-vaccine-serve-w64b9p32q",
     "size": 5,
     "size_type": "Gi",
     "snapshot": false,
     "type": "clone"
    }
   ]
  },
  "language_info": {
   "codemirror_mode": {
    "name": "ipython",
    "version": 3
   },
   "file_extension": ".py",
   "mimetype": "text/x-python",
   "name": "python",
   "nbconvert_exporter": "python",
   "pygments_lexer": "ipython3",
   "version": "3.6.9"
  }
 },
 "nbformat": 4,
 "nbformat_minor": 4
}